{
  "nbformat": 4,
  "nbformat_minor": 0,
  "metadata": {
    "colab": {
      "provenance": [],
      "gpuType": "T4"
    },
    "kernelspec": {
      "name": "python3",
      "display_name": "Python 3"
    },
    "language_info": {
      "name": "python"
    },
    "accelerator": "GPU"
  },
  "cells": [
    {
      "cell_type": "code",
      "execution_count": 89,
      "metadata": {
        "id": "2EuE8RjOwOMI"
      },
      "outputs": [],
      "source": [
        "import tensorflow as tf\n",
        "from tensorflow.keras.layers import Dense,Flatten,Conv2D,MaxPooling2D"
      ]
    },
    {
      "cell_type": "code",
      "source": [
        "Cifar10 = tf.keras.datasets.cifar10\n",
        "\n",
        "(x_train, y_train), (x_test, y_test) = Cifar10.load_data()\n",
        "x_train = x_train / 255.0\n",
        "x_test = x_test / 255.0\n",
        "\n",
        "#x_train =  x_train [...,tf.newaxis]\n",
        "#x_test =  x_test [...,tf.newaxis]"
      ],
      "metadata": {
        "id": "_SFx7TROwsYC"
      },
      "execution_count": 90,
      "outputs": []
    },
    {
      "cell_type": "code",
      "source": [
        "x_train[0].shape"
      ],
      "metadata": {
        "colab": {
          "base_uri": "https://localhost:8080/"
        },
        "id": "ecRGb99mwLKl",
        "outputId": "c569d4d9-32fd-47f8-f4d3-c07209577b1c"
      },
      "execution_count": 91,
      "outputs": [
        {
          "output_type": "execute_result",
          "data": {
            "text/plain": [
              "(32, 32, 3)"
            ]
          },
          "metadata": {},
          "execution_count": 91
        }
      ]
    },
    {
      "cell_type": "code",
      "source": [
        "type(x_train[0][0,0,0])"
      ],
      "metadata": {
        "colab": {
          "base_uri": "https://localhost:8080/"
        },
        "id": "jDm_vv4axj6r",
        "outputId": "70708ffc-c0c1-4316-a5ec-001884399d3c"
      },
      "execution_count": 92,
      "outputs": [
        {
          "output_type": "execute_result",
          "data": {
            "text/plain": [
              "numpy.float64"
            ]
          },
          "metadata": {},
          "execution_count": 92
        }
      ]
    },
    {
      "cell_type": "code",
      "source": [
        "train_data = tf.data.Dataset.from_tensor_slices((x_train, y_train)).shuffle(1000).batch(32)\n",
        "test_data = tf.data.Dataset.from_tensor_slices((x_test, y_test)).batch(32)"
      ],
      "metadata": {
        "id": "dBIcrlUpxrNh"
      },
      "execution_count": 93,
      "outputs": []
    },
    {
      "cell_type": "code",
      "source": [
        "class Model(tf.keras.Model):\n",
        "  def __init__(self):\n",
        "    super().__init__()\n",
        "    self.conv1 = Conv2D(32,3,activation=\"relu\")\n",
        "    self.max1 = MaxPooling2D(2,2)\n",
        "    self.conv2 = Conv2D(64,3,activation=\"relu\")\n",
        "    self.max2 = MaxPooling2D(2,2)\n",
        "    self.conv3 = Conv2D(64,3,activation=\"relu\")\n",
        "    self.flatten = Flatten()\n",
        "    self.dense1 = Dense(128,activation=\"relu\")\n",
        "    self.dense2 = Dense(10)\n",
        "\n",
        "  def call(self,x):\n",
        "     x = self.conv1(x)\n",
        "     x = self.max1(x)\n",
        "     x = self.conv2(x)\n",
        "     x = self.max2(x)\n",
        "     x = self.conv3(x)\n",
        "     x = self.flatten(x)\n",
        "     x = self.dense1(x)\n",
        "     x = self.dense2(x)\n",
        "     return x\n",
        "\n",
        "model = Model()"
      ],
      "metadata": {
        "id": "eJNKhOGExrMb"
      },
      "execution_count": 94,
      "outputs": []
    },
    {
      "cell_type": "code",
      "source": [
        "loss_function = tf.keras.losses.SparseCategoricalCrossentropy(from_logits=True)\n",
        "optimizer = tf.keras.optimizers.Adam()"
      ],
      "metadata": {
        "id": "uAdv9HCrzFmC"
      },
      "execution_count": 95,
      "outputs": []
    },
    {
      "cell_type": "code",
      "source": [
        "train_loss = tf.keras.metrics.Mean()\n",
        "train_accuracy = tf.keras.metrics.SparseCategoricalAccuracy()\n",
        "\n",
        "test_loss = tf.keras.metrics.Mean()\n",
        "test_accuracy = tf.keras.metrics.SparseCategoricalAccuracy()"
      ],
      "metadata": {
        "id": "4uRNMKAE4ai8"
      },
      "execution_count": 96,
      "outputs": []
    },
    {
      "cell_type": "code",
      "source": [
        "@tf.function\n",
        "def train(imagse,labels):\n",
        "    with tf.GradientTape() as tape:\n",
        "        pred = model(imagse)\n",
        "        loss = loss_function(labels,pred)\n",
        "    gradients = tape.gradient(loss,model.trainable_variables)\n",
        "    optimizer.apply_gradients(zip(gradients, model.trainable_variables))\n",
        "\n",
        "    train_loss(loss)\n",
        "    train_accuracy(labels,pred)"
      ],
      "metadata": {
        "id": "EoIKDNC-CwiF"
      },
      "execution_count": 97,
      "outputs": []
    },
    {
      "cell_type": "code",
      "source": [
        "@tf.function\n",
        "def test(imagse,labels):\n",
        "        pred = model(imagse)\n",
        "        loss = loss_function(labels,pred)\n",
        "        test_loss(loss)\n",
        "        test_accuracy(labels,pred)"
      ],
      "metadata": {
        "id": "xT51TabXDa3C"
      },
      "execution_count": 98,
      "outputs": []
    },
    {
      "cell_type": "code",
      "source": [
        "epochs = 10\n",
        "for epoch in range(epochs):\n",
        "  train_loss.reset_state()\n",
        "  train_accuracy.reset_state()\n",
        "  test_loss.reset_state()\n",
        "  test_accuracy.reset_state()\n",
        "\n",
        "  for imagse , labels in train_data:\n",
        "    train(imagse,labels)\n",
        "\n",
        "  for imagse , labels in test_data:\n",
        "    test(imagse,labels)\n",
        "\n",
        "  print(\"epoch :\" ,epoch + 1,\n",
        "        f\"Train Loss :{train_loss.result()}\",\n",
        "        f\"Train accuracy:{train_accuracy.result()}\",\n",
        "        f\"Test Loss :   {test_loss.result()}\",\n",
        "        f\"Test accuracy:{test_accuracy.result()}\")\n"
      ],
      "metadata": {
        "colab": {
          "base_uri": "https://localhost:8080/"
        },
        "id": "y-JXFXIu45kv",
        "outputId": "d7d56fa3-72f9-4f1a-8525-d9d6004e3f0a"
      },
      "execution_count": 99,
      "outputs": [
        {
          "output_type": "stream",
          "name": "stdout",
          "text": [
            "epoch : 1 Train Loss :1.5132251977920532 Train accuracy:0.44811999797821045 Test Loss :   1.2091113328933716 Test accuracy:0.565500020980835\n",
            "epoch : 2 Train Loss :1.1456936597824097 Train accuracy:0.5945000052452087 Test Loss :   1.0826209783554077 Test accuracy:0.6140999794006348\n",
            "epoch : 3 Train Loss :0.9934507012367249 Train accuracy:0.6492999792098999 Test Loss :   0.9729187488555908 Test accuracy:0.6621000170707703\n",
            "epoch : 4 Train Loss :0.8972755074501038 Train accuracy:0.6852399706840515 Test Loss :   0.9243831038475037 Test accuracy:0.6850000023841858\n",
            "epoch : 5 Train Loss :0.8235049247741699 Train accuracy:0.7100399732589722 Test Loss :   0.9506688714027405 Test accuracy:0.6710000038146973\n",
            "epoch : 6 Train Loss :0.7613471746444702 Train accuracy:0.7299799919128418 Test Loss :   0.8755048513412476 Test accuracy:0.697700023651123\n",
            "epoch : 7 Train Loss :0.7103512287139893 Train accuracy:0.7498599886894226 Test Loss :   0.8975512385368347 Test accuracy:0.6955000162124634\n",
            "epoch : 8 Train Loss :0.6587281823158264 Train accuracy:0.7663000226020813 Test Loss :   0.9026741981506348 Test accuracy:0.6963000297546387\n",
            "epoch : 9 Train Loss :0.615719735622406 Train accuracy:0.7817999720573425 Test Loss :   0.976386308670044 Test accuracy:0.6870999932289124\n",
            "epoch : 10 Train Loss :0.573185384273529 Train accuracy:0.7984799742698669 Test Loss :   0.9720406532287598 Test accuracy:0.6873999834060669\n"
          ]
        }
      ]
    },
    {
      "cell_type": "code",
      "source": [
        "import cv2\n",
        "import numpy as np\n",
        "\n",
        "classes_name = [\"airplane\", \"cars\", \"birds\", \"cats\", \"deer\", \"dogs\", \"frogs\", \"horses\", \"ships\",\"trucks\"]\n",
        "image = cv2.imread(\"image2.jpeg\")\n",
        "image = cv2.resize(image,(32,32))\n",
        "image = image [tf.newaxis,...]\n",
        "image = image.astype(\"float32\")\n",
        "\n",
        "prad = model(image)\n",
        "result = np.argmax(prad)\n",
        "result = classes_name[result]\n",
        "print(result)"
      ],
      "metadata": {
        "colab": {
          "base_uri": "https://localhost:8080/"
        },
        "id": "hzs1Sr1JF2T6",
        "outputId": "987937cc-9151-47d2-8b72-45b17f9ccb54"
      },
      "execution_count": 104,
      "outputs": [
        {
          "output_type": "stream",
          "name": "stdout",
          "text": [
            "trucks\n"
          ]
        }
      ]
    },
    {
      "cell_type": "code",
      "source": [
        "model.export(\"my_model2\")\n"
      ],
      "metadata": {
        "id": "r7p2QQcDHX19"
      },
      "execution_count": null,
      "outputs": []
    }
  ]
}