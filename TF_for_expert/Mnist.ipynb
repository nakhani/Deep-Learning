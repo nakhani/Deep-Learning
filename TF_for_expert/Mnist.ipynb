{
  "nbformat": 4,
  "nbformat_minor": 0,
  "metadata": {
    "colab": {
      "provenance": [],
      "gpuType": "T4"
    },
    "kernelspec": {
      "name": "python3",
      "display_name": "Python 3"
    },
    "language_info": {
      "name": "python"
    },
    "accelerator": "GPU"
  },
  "cells": [
    {
      "cell_type": "code",
      "execution_count": 23,
      "metadata": {
        "id": "2EuE8RjOwOMI"
      },
      "outputs": [],
      "source": [
        "import tensorflow as tf\n",
        "from tensorflow.keras.layers import Dense,Flatten,Conv2D"
      ]
    },
    {
      "cell_type": "code",
      "source": [
        "mnist = tf.keras.datasets.mnist\n",
        "\n",
        "(x_train, y_train), (x_test, y_test) = mnist.load_data()\n",
        "x_train = x_train / 255.0\n",
        "x_test = x_test / 255.0\n",
        "\n",
        "x_train =  x_train [...,tf.newaxis]\n",
        "x_test =  x_test [...,tf.newaxis]"
      ],
      "metadata": {
        "id": "_SFx7TROwsYC"
      },
      "execution_count": 24,
      "outputs": []
    },
    {
      "cell_type": "code",
      "source": [
        "type(x_train[0][0,0,0])"
      ],
      "metadata": {
        "colab": {
          "base_uri": "https://localhost:8080/"
        },
        "id": "jDm_vv4axj6r",
        "outputId": "ccf30001-5917-4e19-892d-0a9c1aef4f50"
      },
      "execution_count": 25,
      "outputs": [
        {
          "output_type": "execute_result",
          "data": {
            "text/plain": [
              "numpy.float64"
            ]
          },
          "metadata": {},
          "execution_count": 25
        }
      ]
    },
    {
      "cell_type": "code",
      "source": [
        "train_data = tf.data.Dataset.from_tensor_slices((x_train, y_train)).shuffle(1000).batch(32)\n",
        "test_data = tf.data.Dataset.from_tensor_slices((x_test, y_test)).batch(32)"
      ],
      "metadata": {
        "id": "dBIcrlUpxrNh"
      },
      "execution_count": 26,
      "outputs": []
    },
    {
      "cell_type": "code",
      "source": [
        "class Model(tf.keras.Model):\n",
        "  def __init__(self):\n",
        "    super().__init__()\n",
        "    self.conv1 = Conv2D(32,3,activation=\"relu\")\n",
        "    self.flatten = Flatten()\n",
        "    self.dense1 = Dense(128,activation=\"relu\")\n",
        "    self.dense2 = Dense(10)\n",
        "\n",
        "  def call(self,x):\n",
        "     x = self.conv1(x)\n",
        "     x = self.flatten(x)\n",
        "     x = self.dense1(x)\n",
        "     x = self.dense2(x)\n",
        "     return x\n",
        "\n",
        "model = Model()"
      ],
      "metadata": {
        "id": "eJNKhOGExrMb"
      },
      "execution_count": 27,
      "outputs": []
    },
    {
      "cell_type": "code",
      "source": [
        "loss_function = tf.keras.losses.SparseCategoricalCrossentropy(from_logits=True)\n",
        "optimizer = tf.keras.optimizers.Adam()"
      ],
      "metadata": {
        "id": "uAdv9HCrzFmC"
      },
      "execution_count": 28,
      "outputs": []
    },
    {
      "cell_type": "code",
      "source": [
        "train_loss = tf.keras.metrics.Mean()\n",
        "train_accuracy = tf.keras.metrics.SparseCategoricalAccuracy()\n",
        "\n",
        "test_loss = tf.keras.metrics.Mean()\n",
        "test_accuracy = tf.keras.metrics.SparseCategoricalAccuracy()"
      ],
      "metadata": {
        "id": "4uRNMKAE4ai8"
      },
      "execution_count": 29,
      "outputs": []
    },
    {
      "cell_type": "code",
      "source": [
        "@tf.function\n",
        "def train(imagse,labels):\n",
        "    with tf.GradientTape() as tape:\n",
        "        pred = model(imagse)\n",
        "        loss = loss_function(labels,pred)\n",
        "    gradients = tape.gradient(loss,model.trainable_variables)\n",
        "    optimizer.apply_gradients(zip(gradients, model.trainable_variables))\n",
        "\n",
        "    train_loss(loss)\n",
        "    train_accuracy(labels,pred)"
      ],
      "metadata": {
        "id": "EoIKDNC-CwiF"
      },
      "execution_count": 30,
      "outputs": []
    },
    {
      "cell_type": "code",
      "source": [
        "@tf.function\n",
        "def test(imagse,labels):\n",
        "        pred = model(imagse)\n",
        "        loss = loss_function(labels,pred)\n",
        "        test_loss(loss)\n",
        "        test_accuracy(labels,pred)"
      ],
      "metadata": {
        "id": "xT51TabXDa3C"
      },
      "execution_count": 31,
      "outputs": []
    },
    {
      "cell_type": "code",
      "source": [
        "epochs = 8\n",
        "for epoch in range(epochs):\n",
        "  train_loss.reset_state()\n",
        "  train_accuracy.reset_state()\n",
        "  test_loss.reset_state()\n",
        "  test_accuracy.reset_state()\n",
        "\n",
        "  for imagse , labels in train_data:\n",
        "    train(imagse,labels)\n",
        "\n",
        "  for imagse , labels in test_data:\n",
        "    test(imagse,labels)\n",
        "\n",
        "  print(\"epoch :\" ,epoch + 1,\n",
        "        f\"Train Loss :{train_loss.result()}\",\n",
        "        f\"Train accuracy:{train_accuracy.result()}\",\n",
        "        f\"Test Loss :   {test_loss.result()}\",\n",
        "        f\"Test accuracy:{test_accuracy.result()}\")\n"
      ],
      "metadata": {
        "colab": {
          "base_uri": "https://localhost:8080/"
        },
        "id": "y-JXFXIu45kv",
        "outputId": "fbc9f45e-8510-440e-bff7-dd34bb07eef8"
      },
      "execution_count": 33,
      "outputs": [
        {
          "output_type": "stream",
          "name": "stdout",
          "text": [
            "epoch : 1 Train Loss :0.12949919700622559 Train accuracy:0.9609333276748657 Test Loss :   0.07330644130706787 Test accuracy:0.9751999974250793\n",
            "epoch : 2 Train Loss :0.0420936681330204 Train accuracy:0.9870166778564453 Test Loss :   0.056335125118494034 Test accuracy:0.9825000166893005\n",
            "epoch : 3 Train Loss :0.020403025671839714 Train accuracy:0.9931666851043701 Test Loss :   0.06978178024291992 Test accuracy:0.9789999723434448\n",
            "epoch : 4 Train Loss :0.013748398050665855 Train accuracy:0.9952666759490967 Test Loss :   0.05515453219413757 Test accuracy:0.9850999712944031\n",
            "epoch : 5 Train Loss :0.009379803203046322 Train accuracy:0.9969333410263062 Test Loss :   0.06411313265562057 Test accuracy:0.9835000038146973\n",
            "epoch : 6 Train Loss :0.006237611174583435 Train accuracy:0.9979000091552734 Test Loss :   0.06672245264053345 Test accuracy:0.9848999977111816\n",
            "epoch : 7 Train Loss :0.005729336757212877 Train accuracy:0.9979333281517029 Test Loss :   0.07128465920686722 Test accuracy:0.984000027179718\n",
            "epoch : 8 Train Loss :0.005530132912099361 Train accuracy:0.9983999729156494 Test Loss :   0.07701955735683441 Test accuracy:0.9846000075340271\n"
          ]
        }
      ]
    },
    {
      "cell_type": "code",
      "source": [
        "import cv2\n",
        "import numpy as np\n",
        "image = cv2.imread(\"image.png\")\n",
        "image = cv2.cvtColor(image,cv2.COLOR_BGR2GRAY)\n",
        "image = cv2.resize(image,(28,28))\n",
        "image = image[...,tf.newaxis]\n",
        "image = image [tf.newaxis,...]\n",
        "image = image.astype(\"float32\")\n",
        "\n",
        "prad = model(image)\n",
        "result = np.argmax(prad)\n",
        "print(result)"
      ],
      "metadata": {
        "colab": {
          "base_uri": "https://localhost:8080/"
        },
        "id": "hzs1Sr1JF2T6",
        "outputId": "d42f33c9-559c-49fc-c689-5aac608cdcee"
      },
      "execution_count": 35,
      "outputs": [
        {
          "output_type": "stream",
          "name": "stdout",
          "text": [
            "7\n"
          ]
        }
      ]
    },
    {
      "cell_type": "code",
      "source": [
        "model.export(\"my_model\")\n"
      ],
      "metadata": {
        "id": "r7p2QQcDHX19"
      },
      "execution_count": null,
      "outputs": []
    }
  ]
}