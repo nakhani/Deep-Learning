{
  "cells": [
    {
      "cell_type": "code",
      "execution_count": 1,
      "metadata": {
        "colab": {
          "base_uri": "https://localhost:8080/",
          "height": 461
        },
        "id": "tmuYJ8jlXHUD",
        "outputId": "d610a032-b525-42b7-abcf-f1e065e12aab"
      },
      "outputs": [
        {
          "name": "stdout",
          "output_type": "stream",
          "text": [
            "Collecting python-telegram-bot\n",
            "  Downloading python_telegram_bot-22.0-py3-none-any.whl.metadata (17 kB)\n",
            "Requirement already satisfied: httpx~=0.27 in /usr/local/lib/python3.11/dist-packages (from python-telegram-bot) (0.28.1)\n",
            "Requirement already satisfied: anyio in /usr/local/lib/python3.11/dist-packages (from httpx~=0.27->python-telegram-bot) (4.9.0)\n",
            "Requirement already satisfied: certifi in /usr/local/lib/python3.11/dist-packages (from httpx~=0.27->python-telegram-bot) (2025.1.31)\n",
            "Requirement already satisfied: httpcore==1.* in /usr/local/lib/python3.11/dist-packages (from httpx~=0.27->python-telegram-bot) (1.0.8)\n",
            "Requirement already satisfied: idna in /usr/local/lib/python3.11/dist-packages (from httpx~=0.27->python-telegram-bot) (3.10)\n",
            "Requirement already satisfied: h11<0.15,>=0.13 in /usr/local/lib/python3.11/dist-packages (from httpcore==1.*->httpx~=0.27->python-telegram-bot) (0.14.0)\n",
            "Requirement already satisfied: sniffio>=1.1 in /usr/local/lib/python3.11/dist-packages (from anyio->httpx~=0.27->python-telegram-bot) (1.3.1)\n",
            "Requirement already satisfied: typing_extensions>=4.5 in /usr/local/lib/python3.11/dist-packages (from anyio->httpx~=0.27->python-telegram-bot) (4.13.2)\n",
            "Downloading python_telegram_bot-22.0-py3-none-any.whl (673 kB)\n",
            "\u001b[2K   \u001b[90m━━━━━━━━━━━━━━━━━━━━━━━━━━━━━━━━━━━━━━━━\u001b[0m \u001b[32m673.5/673.5 kB\u001b[0m \u001b[31m17.5 MB/s\u001b[0m eta \u001b[36m0:00:00\u001b[0m\n",
            "\u001b[?25hInstalling collected packages: python-telegram-bot\n",
            "Successfully installed python-telegram-bot-22.0\n",
            "Collecting asyncio\n",
            "  Downloading asyncio-3.4.3-py3-none-any.whl.metadata (1.7 kB)\n",
            "Downloading asyncio-3.4.3-py3-none-any.whl (101 kB)\n",
            "\u001b[2K   \u001b[90m━━━━━━━━━━━━━━━━━━━━━━━━━━━━━━━━━━━━━━━━\u001b[0m \u001b[32m101.8/101.8 kB\u001b[0m \u001b[31m3.0 MB/s\u001b[0m eta \u001b[36m0:00:00\u001b[0m\n",
            "\u001b[?25hInstalling collected packages: asyncio\n",
            "Successfully installed asyncio-3.4.3\n"
          ]
        },
        {
          "data": {
            "application/vnd.colab-display-data+json": {
              "id": "5f23c2efbae4403c96abce77947a6093",
              "pip_warning": {
                "packages": [
                  "asyncio"
                ]
              }
            }
          },
          "metadata": {},
          "output_type": "display_data"
        }
      ],
      "source": [
        "!pip install python-telegram-bot --upgrade\n",
        "!pip install asyncio\n"
      ]
    },
    {
      "cell_type": "code",
      "execution_count": null,
      "metadata": {
        "colab": {
          "base_uri": "https://localhost:8080/"
        },
        "id": "ajPwJEOrvvWe",
        "outputId": "2cd84550-801b-4061-c5a2-dfb8fd227983"
      },
      "outputs": [
        {
          "name": "stderr",
          "output_type": "stream",
          "text": [
            "WARNING:absl:Compiled the loaded model, but the compiled metrics have yet to be built. `model.compile_metrics` will be empty until you train or evaluate the model.\n"
          ]
        },
        {
          "name": "stdout",
          "output_type": "stream",
          "text": [
            "\u001b[1m1/1\u001b[0m \u001b[32m━━━━━━━━━━━━━━━━━━━━\u001b[0m\u001b[37m\u001b[0m \u001b[1m6s\u001b[0m 6s/step\n"
          ]
        }
      ],
      "source": [
        "import nest_asyncio\n",
        "import asyncio\n",
        "from telegram.ext import ApplicationBuilder, CommandHandler, MessageHandler, filters\n",
        "import tensorflow as tf\n",
        "import cv2\n",
        "import numpy as np\n",
        "\n",
        "\n",
        "nest_asyncio.apply()\n",
        "\n",
        "\n",
        "model = tf.keras.models.load_model(\"/content/model.h5\")\n",
        "\n",
        "\n",
        "class_mapping = {\n",
        "    0: \"Bluebell\",\n",
        "    1: \"Buttercup\",\n",
        "    2: \"Coltsfoot\",\n",
        "    3: \"Cowslip\",\n",
        "    4: \"Crocus\",\n",
        "    5: \"Daffodil\",\n",
        "    6: \"Daisy\",\n",
        "    7: \"Dandelion\",\n",
        "    8: \"Fritillary\",\n",
        "    9: \"Iris\",\n",
        "    10: \"Lilyvalley\",\n",
        "    11: \"Pansy\",\n",
        "    12: \"Snowdrop\",\n",
        "    13: \"Sunflower\",\n",
        "    14: \"Tigerlily\",\n",
        "    15: \"Tulip\",\n",
        "    16: \"Windflower\"\n",
        "}\n",
        "\n",
        "\n",
        "TOKEN = \"\"\n",
        "\n",
        "\n",
        "async def start(update, context):\n",
        "    await update.message.reply_text(\"Welcome! Send me an image, and I will classify the flower.\")\n",
        "\n",
        "\n",
        "async def handle_image(update, context):\n",
        "\n",
        "    photo = await update.message.photo[-1].get_file()\n",
        "    photo_path = \"received_image.jpg\"\n",
        "    await photo.download_to_drive(photo_path)\n",
        "\n",
        "\n",
        "    image = cv2.imread(photo_path)\n",
        "    image = cv2.resize(image, (224, 224))\n",
        "    image = image / 255.0\n",
        "    image = np.expand_dims(image, axis=0)\n",
        "\n",
        "\n",
        "    predictions = model.predict(image)\n",
        "    predicted_class = np.argmax(predictions)\n",
        "    flower_name = class_mapping[predicted_class]\n",
        "\n",
        "\n",
        "    await update.message.reply_text(f\"The flower is: {flower_name}\")\n",
        "\n",
        "\n",
        "async def main():\n",
        "\n",
        "    application = ApplicationBuilder().token(TOKEN).build()\n",
        "\n",
        "\n",
        "    application.add_handler(CommandHandler(\"start\", start))\n",
        "    application.add_handler(MessageHandler(filters.PHOTO, handle_image))\n",
        "\n",
        "\n",
        "    await application.run_polling()\n",
        "\n",
        "if __name__ == \"__main__\":\n",
        "    asyncio.run(main())\n"
      ]
    }
  ],
  "metadata": {
    "accelerator": "GPU",
    "colab": {
      "gpuType": "T4",
      "provenance": []
    },
    "kernelspec": {
      "display_name": "Python 3",
      "name": "python3"
    },
    "language_info": {
      "name": "python"
    }
  },
  "nbformat": 4,
  "nbformat_minor": 0
}
