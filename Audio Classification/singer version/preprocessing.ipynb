{
 "cells": [
  {
   "cell_type": "code",
   "execution_count": null,
   "metadata": {},
   "outputs": [],
   "source": [
    "import os\n",
    "import pydub\n",
    "import matplotlib.pyplot as plt\n",
    "import pydub.silence\n",
    "import pydub.utils\n",
    "from pydub.utils import make_chunks\n",
    "from spleeter.separator import Separator"
   ]
  },
  {
   "cell_type": "code",
   "execution_count": null,
   "metadata": {},
   "outputs": [
    {
     "name": "stdout",
     "output_type": "stream",
     "text": [
      "Merged amirhossein_1 and amirhossein_2 into amirhossein\n",
      "Merged bazazzan_1 and bazazzan_2 into bazazzan\n",
      "Merged nematizade_1 and nematizade_2 into nematizade\n",
      "Merged nima_1 and nima_2 into nima\n",
      "Merged rezai_1 and rezai_2 into rezai\n",
      "Merged valipour_1 and valipour_2 into valipour\n"
     ]
    }
   ],
   "source": [
    "separator = Separator('spleeter:2stems') \n",
    "\n",
    "files = os.listdir(\"raw_data\")\n",
    "merged_file = []\n",
    "all_data = []\n",
    "\n",
    "for file in files:\n",
    "    if \"_\" in file:\n",
    "        first_part_name = file.split(\"_\")[0] #split first part of file name\n",
    "        \n",
    "        \n",
    "        # Check if there is already a similar file in the merged_file list\n",
    "        matched_file = None\n",
    "        for merged in merged_file:\n",
    "            if merged.startswith(first_part_name) and \"_\" in merged:\n",
    "                matched_file = merged\n",
    "                break\n",
    "        \n",
    "        if matched_file:\n",
    "            # Merge the two parts\n",
    "            voice_1 = pydub.AudioSegment.from_file(os.path.join(\"raw_data\", matched_file))\n",
    "            voice_2 = pydub.AudioSegment.from_file(os.path.join(\"raw_data\", file))\n",
    "            result = voice_1 + voice_2\n",
    "            \n",
    "            # Export the merged file\n",
    "            merged_file_path = os.path.join(\"raw_data\", first_part_name )\n",
    "            result.export(merged_file_path)\n",
    "            all_data.append(merged_file_path)\n",
    "            print(f\"Merged {matched_file} and {file} into {first_part_name}\")\n",
    "            \n",
    "            # Remove the matched file from the list\n",
    "            merged_file.remove(matched_file)\n",
    "        else:\n",
    "            # Add the file to the merged_file list\n",
    "            merged_file.append(file)\n",
    "    else:\n",
    "        # Add files without an underscore directly to the merged_file list\n",
    "        all_data.append(os.path.join(\"raw_data\", file))"
   ]
  },
  {
   "cell_type": "code",
   "execution_count": null,
   "metadata": {},
   "outputs": [],
   "source": [
    "\n",
    "for data in  all_data:\n",
    "    \n",
    "    separator.separate_to_file(data, 'spleeter_output')\n",
    "    vocal_file_path = os.path.join('spleeter_output', os.path.splitext(os.path.basename(data))[0], 'vocals.wav')\n",
    "    \n",
    "    audio = pydub.AudioSegment.from_file(vocal_file_path)\n",
    "    audio = audio.set_sample_width(2)\n",
    "    audio = audio.set_frame_rate(48000)\n",
    "    audio = audio.set_channels(1)\n",
    "    \n",
    "    file_name = os.path.basename(data).split(\".\")[0]\n",
    "\n",
    "    os.makedirs(os.path.join(\"final_data\",file_name), exist_ok=True)\n",
    "\n",
    "\n",
    "    # audio_array = audio.get_array_of_samples()\n",
    "    # plt.figure(figsize=(20,2))\n",
    "    # plt.plot(audio_array)\n",
    "    # plt.show()\n",
    "\n",
    "    chunks = pydub.silence.split_on_silence(audio, min_silence_len=3000  , silence_thresh=-40)\n",
    "\n",
    "    if chunks:  # Ensure chunks is not empty\n",
    "        result = sum(chunks)\n",
    "        parts = make_chunks(result, 1000)\n",
    "        for i, part in enumerate(parts):\n",
    "          if len(part) >= 1000:\n",
    "           part.export(os.path.join(\"final_data\",file_name, f\"voice_{i}.wav\"), format=\"wav\")\n",
    "           print(f\"Processed and exported voice_{i}.wav\")\n",
    "    else:\n",
    "        parts = make_chunks(audio, 1000)\n",
    "        for i, part in enumerate(parts):\n",
    "          if len(part) >= 1000:\n",
    "           part.export(os.path.join(\"final_data\",file_name, f\"voice_{i}.wav\"), format=\"wav\")\n",
    "           print(f\"Processed and exported voice_{i}.wav\")\n",
    "       "
   ]
  }
 ],
 "metadata": {
  "kernelspec": {
   "display_name": "Python 3",
   "language": "python",
   "name": "python3"
  },
  "language_info": {
   "codemirror_mode": {
    "name": "ipython",
    "version": 3
   },
   "file_extension": ".py",
   "mimetype": "text/x-python",
   "name": "python",
   "nbconvert_exporter": "python",
   "pygments_lexer": "ipython3",
   "version": "3.9.7"
  }
 },
 "nbformat": 4,
 "nbformat_minor": 2
}
